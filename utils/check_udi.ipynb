{
 "cells": [
  {
   "cell_type": "code",
   "execution_count": 1,
   "metadata": {},
   "outputs": [],
   "source": [
    "#\n",
    "import hashlib"
   ]
  },
  {
   "cell_type": "code",
   "execution_count": 37,
   "metadata": {},
   "outputs": [],
   "source": [
    "Source = 'CO-ADD'\n",
    "TP = 'PSR85-02-02'\n",
    "TW = 'A02'\n",
    "TW2 = 'A01'\n",
    "ASS = 'Ec ATCC 25992'\n",
    "RT = 'MIC'\n",
    "READ = 'OD600'"
   ]
  },
  {
   "cell_type": "code",
   "execution_count": null,
   "metadata": {},
   "outputs": [
    {
     "name": "stdout",
     "output_type": "stream",
     "text": [
      "46 CO-ADD_PSR85-02-02_A02_Ec ATCC 25992_MIC_OD600\n",
      "56 935F3860533B1D2B1540A07725C0F3EEFED2ABDCA4BEF313B4BB0C32\n",
      "56 0273693BAD8134D5C16151329C7B5B1CE6B2ACF8A749A85BAD75C274\n",
      "24 3F710BCDEB855279E29F1B8F\n",
      "24 363420A0370BF2559BFDBC68\n",
      "3F710BCDEB855279E29F1B8F\n"
     ]
    },
    {
     "ename": "TypeError",
     "evalue": "'str' object cannot be interpreted as an integer",
     "output_type": "error",
     "traceback": [
      "\u001b[1;31m---------------------------------------------------------------------------\u001b[0m",
      "\u001b[1;31mTypeError\u001b[0m                                 Traceback (most recent call last)",
      "Cell \u001b[1;32mIn[41], line 23\u001b[0m\n\u001b[0;32m     21\u001b[0m \u001b[38;5;28mprint\u001b[39m(\u001b[38;5;124mf\u001b[39m\u001b[38;5;124m\"\u001b[39m\u001b[38;5;132;01m{\u001b[39;00m\u001b[38;5;28mlen\u001b[39m(blk2)\u001b[38;5;132;01m}\u001b[39;00m\u001b[38;5;124m \u001b[39m\u001b[38;5;132;01m{\u001b[39;00mblk2\u001b[38;5;132;01m}\u001b[39;00m\u001b[38;5;124m\"\u001b[39m)\n\u001b[0;32m     22\u001b[0m \u001b[38;5;28mprint\u001b[39m(gen_udi([Source,TP,TW,ASS,RT,READ]))\n\u001b[1;32m---> 23\u001b[0m hashlib\u001b[38;5;241m.\u001b[39mblake2s(\u001b[38;5;28;43mbytes\u001b[39;49m\u001b[43m(\u001b[49m\u001b[43m[\u001b[49m\u001b[43mSource\u001b[49m\u001b[43m,\u001b[49m\u001b[43mTP\u001b[49m\u001b[43m,\u001b[49m\u001b[43mTW\u001b[49m\u001b[43m,\u001b[49m\u001b[43mASS\u001b[49m\u001b[43m,\u001b[49m\u001b[43mRT\u001b[49m\u001b[43m,\u001b[49m\u001b[43mREAD\u001b[49m\u001b[43m]\u001b[49m\u001b[43m)\u001b[49m,digest_size\u001b[38;5;241m=\u001b[39m\u001b[38;5;241m12\u001b[39m)\u001b[38;5;241m.\u001b[39mhexdigest()\u001b[38;5;241m.\u001b[39mupper()\n",
      "\u001b[1;31mTypeError\u001b[0m: 'str' object cannot be interpreted as an integer"
     ]
    }
   ],
   "source": [
    "def gen_udi(metadata_list: list) -> str:\n",
    "    _metastr = \"_\".join(metadata_list)\n",
    "    _hash = hashlib.blake2s(bytes(_metastr,encoding='utf-8'),digest_size=12)\n",
    "    return _hash.hexdigest().upper()\n",
    "\n",
    "\n",
    "metastr = \"_\".join([Source,TP,TW,ASS,RT,READ])\n",
    "metastr2 = \"_\".join([Source,TP,TW2,ASS,RT,READ])\n",
    "\n",
    "sha = hashlib.sha3_224(bytes(metastr,encoding='utf-8')).hexdigest().upper()\n",
    "sha2 = hashlib.sha3_224(bytes(metastr2,encoding='utf-8')).hexdigest().upper()\n",
    "\n",
    "blk = hashlib.blake2s(bytes(metastr,encoding='utf-8'),digest_size=12).hexdigest().upper()\n",
    "blk2 = hashlib.blake2s(bytes(metastr2,encoding='utf-8'),digest_size=12).hexdigest().upper()\n",
    "\n",
    "print(f\"{len(metastr)} {metastr}\")\n",
    "print(f\"{len(sha)} {sha}\")\n",
    "print(f\"{len(sha2)} {sha2}\")\n",
    "\n",
    "print(f\"{len(blk)} {blk}\")\n",
    "print(f\"{len(blk2)} {blk2}\")\n",
    "print(gen_udi([Source,TP,TW,ASS,RT,READ]))\n"
   ]
  },
  {
   "cell_type": "code",
   "execution_count": null,
   "metadata": {},
   "outputs": [],
   "source": []
  },
  {
   "cell_type": "code",
   "execution_count": null,
   "metadata": {},
   "outputs": [],
   "source": []
  }
 ],
 "metadata": {
  "kernelspec": {
   "display_name": "dj42py311",
   "language": "python",
   "name": "python3"
  },
  "language_info": {
   "codemirror_mode": {
    "name": "ipython",
    "version": 3
   },
   "file_extension": ".py",
   "mimetype": "text/x-python",
   "name": "python",
   "nbconvert_exporter": "python",
   "pygments_lexer": "ipython3",
   "version": "3.11.4"
  }
 },
 "nbformat": 4,
 "nbformat_minor": 2
}
